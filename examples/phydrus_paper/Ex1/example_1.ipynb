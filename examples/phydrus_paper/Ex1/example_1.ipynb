{
 "cells": [
  {
   "cell_type": "markdown",
   "metadata": {},
   "source": [
    "# Step-by-step Guide: Modeling with Phydrus\n",
    "\n",
    "*Authors: R.A. Collenteur & M. Vremec*\n",
    "\n",
    "This notebook is part of a manuscript that is currently being prepared (spring 2021): \n",
    "\n",
    "*R.A. Collenteur, M. Vremec, J. Simunek, and G. Brunetti, (in preparation) pHydrus: an open source Python package for the Hydrus-1D model.*\n",
    "\n",
    "---\n",
    "\n",
    "This Notebook presents the basics steps to create a Phydrus model simulating water flow through the vadose zone. In the presented example, the workflow is divided into several steps, to demonstrate the usage of Phydrus methods:\n",
    "\n",
    "1. Import the Phydrus package\n",
    "2. Create a pHydrus Model instance.\n",
    "3. Provide time information.\n",
    "4. Add flow and transport processes.\n",
    "5. Add materials\n",
    "6. Create and add the soil profile.\n",
    "7. Add atmospheric boundary data.\n",
    "8. Add observation nodes.\n",
    "9. Write input files and run Hydrus-1D.\n",
    "10. Read and plot the results.\n",
    "\n",
    "### 1. Import the required packages"
   ]
  },
  {
   "cell_type": "code",
   "execution_count": 1,
   "metadata": {},
   "outputs": [
    {
     "name": "stdout",
     "output_type": "stream",
     "text": [
      "Python version: 3.8.2 (default, Mar 25 2020, 11:22:43) \n",
      "[Clang 4.0.1 (tags/RELEASE_401/final)]\n",
      "Numpy version: 1.19.2\n",
      "Pandas version: 1.2.1\n",
      "Phydrus version: 0.3.0b\n",
      "Matplotlib version: 3.3.2\n"
     ]
    }
   ],
   "source": [
    "import os\n",
    "import numpy as np\n",
    "import pandas as pd\n",
    "\n",
    "import matplotlib.pyplot as plt\n",
    "\n",
    "import phydrus as ps\n",
    "ps.show_versions()"
   ]
  },
  {
   "cell_type": "markdown",
   "metadata": {},
   "source": [
    "### Step 2. Create a pHydrus Model instance.\n",
    "In the code block below a `Model` instance is created. The path to the Hydrus-1D executable has to be set at this stage. Phydrus will check the executable, and raise an Error if it is not found. "
   ]
  },
  {
   "cell_type": "code",
   "execution_count": 2,
   "metadata": {},
   "outputs": [],
   "source": [
    "# Workspace Folder where the Hydrus files are to be stored\n",
    "ws = \"output\"\n",
    "exe = os.path.join(os.getcwd(), \"../hydrus\")  # path to the Hydrus-1D executable\n",
    "\n",
    "# Create model\n",
    "ml = ps.Model(exe_name=exe, ws_name=ws)"
   ]
  },
  {
   "cell_type": "markdown",
   "metadata": {},
   "source": [
    "### Step 3. Provide time information."
   ]
  },
  {
   "cell_type": "code",
   "execution_count": 3,
   "metadata": {},
   "outputs": [],
   "source": [
    "ml.add_time_info(tinit=0, tmax=730, print_times=True);"
   ]
  },
  {
   "cell_type": "markdown",
   "metadata": {},
   "source": [
    "### Step 4. Add flow and transport processes.\n",
    "In this step a model for the water flow is selected and top and bottom boundary conditions, using the `ml.add_waterflow` method. After that, we can use the `get_empty_material_df` method to obtain an empty DataFrame to define our soil hydraulic parameters for the different soil materials. In this example, the model contains to soil materials."
   ]
  },
  {
   "cell_type": "code",
   "execution_count": 4,
   "metadata": {},
   "outputs": [],
   "source": [
    "ml.add_waterflow(model=0, top_bc=3, bot_bc=4)"
   ]
  },
  {
   "cell_type": "markdown",
   "metadata": {},
   "source": [
    "### Step 5. Add materials."
   ]
  },
  {
   "cell_type": "code",
   "execution_count": 5,
   "metadata": {},
   "outputs": [],
   "source": [
    "# Add materials\n",
    "m = ml.get_empty_material_df(n=2)\n",
    "m.loc[0:2] = [[0.0, 0.34, 0.01, 1.47, 13, 0.5],\n",
    "              [0.0, 0.36, 0.02, 1.52, 50, 0.5]]\n",
    "ml.add_material(m)"
   ]
  },
  {
   "cell_type": "markdown",
   "metadata": {},
   "source": [
    "### Step 6. Create and add the soil profile.\n"
   ]
  },
  {
   "cell_type": "code",
   "execution_count": 6,
   "metadata": {},
   "outputs": [
    {
     "data": {
      "image/png": "[encoded data removed]",
      "text/plain": [
       "<Figure size 216x432 with 1 Axes>"
      ]
     },
     "metadata": {
      "needs_background": "light"
     },
     "output_type": "display_data"
    }
   ],
   "source": [
    "bottom = [-30, -100]  # Depth of the soil layer bottoms\n",
    "ihead = -500  # Determine initial pressure head\n",
    "\n",
    "profile = ps.create_profile(bot=bottom, dx=1, h=ihead, mat=[1, 2])\n",
    "ml.add_profile(profile)\n",
    "ml.plots.profile(figsize=(3,6));"
   ]
  },
  {
   "cell_type": "markdown",
   "metadata": {},
   "source": [
    "### Step 7. Add atmospheric boundary data.\n",
    "Atmospheric boundary condition can be added easily by reading in a CSV file using Pandas `read_csv` method and adding it to the model. "
   ]
  },
  {
   "cell_type": "code",
   "execution_count": 7,
   "metadata": {},
   "outputs": [],
   "source": [
    "atm = pd.read_csv(\"../data/atmosphere.csv\", index_col=0)\n",
    "ml.add_atmospheric_bc(atm, hcrits=0)"
   ]
  },
  {
   "cell_type": "markdown",
   "metadata": {},
   "source": [
    "### Step 8. Add observation nodes."
   ]
  },
  {
   "cell_type": "code",
   "execution_count": 8,
   "metadata": {},
   "outputs": [],
   "source": [
    "#Number of the node\n",
    "ml.add_obs_nodes([-30, -60])"
   ]
  },
  {
   "cell_type": "markdown",
   "metadata": {},
   "source": [
    "### Step 9. Write input files and run Hydrus-1D.\n",
    "Before we can simulate, we write all model information to files. "
   ]
  },
  {
   "cell_type": "code",
   "execution_count": 9,
   "metadata": {},
   "outputs": [
    {
     "name": "stderr",
     "output_type": "stream",
     "text": [
      "INFO: Successfully wrote output/SELECTOR.IN\n",
      "INFO: Successfully wrote output/PROFILE.DAT\n",
      "INFO: Successfully wrote output/ATMOSPH.IN\n",
      "INFO: Hydrus-1D Simulation Successful.\n"
     ]
    },
    {
     "data": {
      "text/plain": [
       "CompletedProcess(args=['/Users/raoulcollenteur/Github/phydrus/phydrus/examples/phydrus_paper/Ex1/../hydrus', 'output', '-1'], returncode=0)"
      ]
     },
     "execution_count": 9,
     "metadata": {},
     "output_type": "execute_result"
    }
   ],
   "source": [
    "ml.write_input()\n",
    "ml.simulate()"
   ]
  },
  {
   "cell_type": "markdown",
   "metadata": {},
   "source": [
    "### Step 10. Read and plot the results.\n",
    "Plot pressure for soil column at the end of the simulation. Plot the drainage over time"
   ]
  },
  {
   "cell_type": "code",
   "execution_count": 10,
   "metadata": {},
   "outputs": [
    {
     "data": {
      "image/png": "[encoded data removed]",
      "text/plain": [
       "<Figure size 432x288 with 4 Axes>"
      ]
     },
     "metadata": {
      "needs_background": "light"
     },
     "output_type": "display_data"
    }
   ],
   "source": [
    "fig, axes = plt.subplots(2,2, figsize=(6,4))\n",
    "\n",
    "[ax1, ax2] = ml.plots.soil_properties(axes=axes[0]);\n",
    "[ax3, ax4] = ml.plots.water_flow(\"Bottom Flux\", axes=axes[1]);\n",
    "\n",
    "ax1.set_ylabel(\"$\\\\theta$ [-]\")\n",
    "ax3.set_ylabel(\"Drainage [cm/d]\")\n",
    "\n",
    "ax2.get_legend().remove()\n",
    "ax3.get_legend().remove()\n",
    "ax4.get_legend().remove()\n",
    "\n",
    "plt.tight_layout()\n",
    "plt.savefig(\"../figures/figure_1.pdf\", bbox_inches=\"tight\", dpi=300)"
   ]
  },
  {
   "cell_type": "markdown",
   "metadata": {},
   "source": [
    "### 9c. Plot the water content over time"
   ]
  },
  {
   "cell_type": "code",
   "execution_count": 11,
   "metadata": {},
   "outputs": [
    {
     "data": {
      "text/plain": [
       "[Text(0, 0, 'Jan-07'), Text(365, 0, 'Jan-08'), Text(730, 0, 'Jan-09')]"
      ]
     },
     "execution_count": 11,
     "metadata": {},
     "output_type": "execute_result"
    },
    {
     "data": {
      "image/png": "[encoded data removed]",
      "text/plain": [
       "<Figure size 432x216 with 2 Axes>"
      ]
     },
     "metadata": {
      "needs_background": "light"
     },
     "output_type": "display_data"
    }
   ],
   "source": [
    "df = ml.read_obs_node()\n",
    "\n",
    "fig, [ax0, ax1] = plt.subplots(2,1, figsize=(6,3), sharex=True, sharey=True)\n",
    "df[ml.obs_nodes[0]][\"theta\"].plot(ax=ax0, marker=\".\", c=\"k\", linestyle=\"\", markersize=3)\n",
    "ax0.set_title(\"Water content at -30 cm\")\n",
    "ax0.set_ylabel(r\"$\\theta$ [-]\")\n",
    "\n",
    "df[ml.obs_nodes[1]][\"theta\"].plot(ax=ax1, marker=\".\", c=\"k\", linestyle=\"\", markersize=3)\n",
    "ax1.set_title(\"Water content at -60 cm\")\n",
    "ax1.set_ylabel(r\"$\\theta$ [-]\")\n",
    "plt.tight_layout()\n",
    "ax1.set_xlabel(\"\")\n",
    "ax1.set_xlim(0,730)\n",
    "ax1.set_xticks([0,365,730])\n",
    "ax1.set_xticklabels([\"Jan-07\", \"Jan-08\", \"Jan-09\"])\n",
    "#plt.savefig(\"../../figures/water_content.eps\", bbox_inches=\"tight\", dpi=300)"
   ]
  }
 ],
 "metadata": {
  "kernelspec": {
   "display_name": "Python 3",
   "language": "python",
   "name": "python3"
  },
  "language_info": {
   "codemirror_mode": {
    "name": "ipython",
    "version": 3
   },
   "file_extension": ".py",
   "mimetype": "text/x-python",
   "name": "python",
   "nbconvert_exporter": "python",
   "pygments_lexer": "ipython3",
   "version": "3.8.2"
  }
 },
 "nbformat": 4,
 "nbformat_minor": 4
}
